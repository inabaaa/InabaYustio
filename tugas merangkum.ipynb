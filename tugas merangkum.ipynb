{
 "cells": [
  {
   "cell_type": "markdown",
   "id": "b3cda3a9-583f-4f27-8a9b-5fcf7b92bc27",
   "metadata": {},
   "source": [
    "### Merangkum Materi Pengenalan Pemrograman\n",
    "### Nama : Inaba Yustio Wibowo\n",
    "### NIM : 103102400058\n"
   ]
  },
  {
   "cell_type": "code",
   "execution_count": 31,
   "id": "f3c7b416-18b3-407f-a758-26d14b242c79",
   "metadata": {},
   "outputs": [
    {
     "name": "stdout",
     "output_type": "stream",
     "text": [
      "selamat pagi semua!!\n",
      "selamat pagi semua!!\n"
     ]
    }
   ],
   "source": [
    "#MENCETAK SESUATU KE LAYAR \n",
    "print(\"selamat pagi semua!!\")\n",
    "#atau\n",
    "print(f\"selamat pagi semua!!\")"
   ]
  },
  {
   "cell_type": "code",
   "execution_count": 14,
   "id": "3921daae-f60b-4d55-9fb0-2515f005174c",
   "metadata": {},
   "outputs": [],
   "source": [
    "#KOMENTAR (memberikan keterangan pada suatu kode, dan tidak mengeluarkan output)\n",
    "# ini adalah sebuah komentar."
   ]
  },
  {
   "cell_type": "code",
   "execution_count": 16,
   "id": "32aad012-a7f8-40fe-8f6d-a6f0da6d3f53",
   "metadata": {},
   "outputs": [],
   "source": [
    "#PEMBUATAN VARIABEL \n",
    "Nama = \"Inaba\"\n",
    "Program_studi = \"Data Sains\""
   ]
  },
  {
   "cell_type": "code",
   "execution_count": 18,
   "id": "f68216dd-04c3-4d3a-8642-5250c92d5a1f",
   "metadata": {},
   "outputs": [],
   "source": [
    "#TIPE DATA \n",
    "bilangan_bulat = 20\n",
    "bilangan_desimal = 3.14\n",
    "teks = \"ini adalah sebuah kalimat\"\n",
    "boolean = True"
   ]
  },
  {
   "cell_type": "code",
   "execution_count": 20,
   "id": "b17c540a-ee63-4de0-bc51-c89ee8481546",
   "metadata": {},
   "outputs": [
    {
     "name": "stdout",
     "output_type": "stream",
     "text": [
      "nama saya Inaba, dan program studi saya adalah Data Sains\n"
     ]
    }
   ],
   "source": [
    "#MENAMPILKAN VARIABEL \n",
    "print(f\"nama saya {Nama}, dan program studi saya adalah {Program_studi}\")"
   ]
  },
  {
   "cell_type": "code",
   "execution_count": 56,
   "id": "df3cb0bc-2774-41a0-93ee-afc2d1ff5d37",
   "metadata": {},
   "outputs": [
    {
     "name": "stdin",
     "output_type": "stream",
     "text": [
      "nama barang :  buku\n",
      "harga barang :  2000\n"
     ]
    }
   ],
   "source": [
    "#MEMBUAT INPUT DARI PENGGUNA\n",
    "nama_barang = input(\"nama barang : \")\n",
    "harga_barang = int(input(\"harga barang : \"))"
   ]
  },
  {
   "cell_type": "code",
   "execution_count": 64,
   "id": "35cae705-1ce0-4120-9020-ff3b410f17eb",
   "metadata": {},
   "outputs": [],
   "source": [
    "#IMPORT MODUL \n",
    "#import seluruh modul\n",
    "import pandas as pd\n",
    "import math\n",
    "#import beberapa komponen di modul \n",
    "from pandas import DataFrame\n"
   ]
  },
  {
   "cell_type": "code",
   "execution_count": 58,
   "id": "0331dd2a-2d6d-48b7-b9d9-b85bf4f2e27c",
   "metadata": {},
   "outputs": [
    {
     "data": {
      "text/plain": [
       "15"
      ]
     },
     "execution_count": 58,
     "metadata": {},
     "output_type": "execute_result"
    }
   ],
   "source": [
    "#FUNGSI \n",
    "def perkalian(nilai1, nilai2):\n",
    "    hasil = nilai1 * nilai2\n",
    "    return hasil\n",
    "perkalian(3,5)"
   ]
  },
  {
   "cell_type": "code",
   "execution_count": 68,
   "id": "2847f576-ff31-4c2c-b2dc-84b10a27494e",
   "metadata": {},
   "outputs": [],
   "source": [
    "#EKSPRESI PERSAMAAN MATEMATIKA\n",
    "#eksponensial/ pangkat\n",
    "eksponensial = 2 ** 2\n",
    "#modulo/ sisa bagi\n",
    "modulo = 5 % 2\n",
    "#akar kuadrat\n",
    "akar_kuadrat = math.sqrt(25)"
   ]
  },
  {
   "cell_type": "code",
   "execution_count": 25,
   "id": "f64f9aa7-0d97-41e6-a1e7-a0fced8d3eb0",
   "metadata": {},
   "outputs": [
    {
     "name": "stdout",
     "output_type": "stream",
     "text": [
      "mempunyai KTP\n"
     ]
    }
   ],
   "source": [
    "#PERCABANGAN IF \n",
    "umur = 20\n",
    "if umur > 17:\n",
    "    print(\"mempunyai KTP\")"
   ]
  },
  {
   "cell_type": "code",
   "execution_count": 27,
   "id": "9807fedb-7a2a-468b-baee-57229e77d4ea",
   "metadata": {},
   "outputs": [
    {
     "name": "stdout",
     "output_type": "stream",
     "text": [
      "selamat anda lulus\n"
     ]
    }
   ],
   "source": [
    "#PERCABANGAN IF-ELSE\n",
    "nilai = 82\n",
    "if nilai > 75:\n",
    "    print(\"selamat anda lulus\")\n",
    "else: \n",
    "    print(\"anda tidak lulus\")"
   ]
  },
  {
   "cell_type": "code",
   "execution_count": 29,
   "id": "07b81d01-3d1a-41af-aa44-d125933c81c9",
   "metadata": {},
   "outputs": [
    {
     "name": "stdout",
     "output_type": "stream",
     "text": [
      "hari ini upacara\n"
     ]
    }
   ],
   "source": [
    "#PERCABANGAN IF-ELIF-ELSE\n",
    "hari = \"senin\"\n",
    "if hari == \"minggu\":\n",
    "    print(\"hari ini libur\")\n",
    "elif hari == \"senin\":\n",
    "    print(\"hari ini upacara\")\n",
    "else:\n",
    "    print(\"hari ini masuk seperti biasa\")"
   ]
  },
  {
   "cell_type": "code",
   "execution_count": 44,
   "id": "6dd806f9-dbf5-412e-a470-75f8d5854cfd",
   "metadata": {},
   "outputs": [
    {
     "name": "stdout",
     "output_type": "stream",
     "text": [
      "urutan ke 1\n",
      "urutan ke 2\n",
      "urutan ke 3\n",
      "urutan ke 4\n",
      "urutan ke 5\n"
     ]
    }
   ],
   "source": [
    "#PERULANGAN (for)\n",
    "for i in range(1,6):\n",
    "    print(\"urutan ke\",i)\n"
   ]
  },
  {
   "cell_type": "code",
   "execution_count": 46,
   "id": "45e1883f-9309-4cbf-9e74-da3537cf2363",
   "metadata": {},
   "outputs": [
    {
     "name": "stdout",
     "output_type": "stream",
     "text": [
      "Saya Suka Makan apple\n",
      "Saya Suka Makan banana\n",
      "Saya Suka Makan cherry\n"
     ]
    }
   ],
   "source": [
    "#PERULANGAN (for dengan array)\n",
    "fruits = [\"apple\", \"banana\", \"cherry\"]\n",
    "for fruit in fruits:\n",
    "    print(f'Saya Suka Makan {fruit}')"
   ]
  },
  {
   "cell_type": "code",
   "execution_count": 54,
   "id": "a0ffb77d-ba37-4cec-8d14-745b6697f8a5",
   "metadata": {},
   "outputs": [
    {
     "name": "stdout",
     "output_type": "stream",
     "text": [
      "1\n",
      "5\n",
      "9\n",
      "13\n",
      "17\n"
     ]
    }
   ],
   "source": [
    "#PERULANGAN (while)\n",
    "i = 1\n",
    "while i < 20:\n",
    "    print(i)\n",
    "    i = i + 4"
   ]
  }
 ],
 "metadata": {
  "kernelspec": {
   "display_name": "Python 3 (ipykernel)",
   "language": "python",
   "name": "python3"
  },
  "language_info": {
   "codemirror_mode": {
    "name": "ipython",
    "version": 3
   },
   "file_extension": ".py",
   "mimetype": "text/x-python",
   "name": "python",
   "nbconvert_exporter": "python",
   "pygments_lexer": "ipython3",
   "version": "3.12.4"
  }
 },
 "nbformat": 4,
 "nbformat_minor": 5
}
